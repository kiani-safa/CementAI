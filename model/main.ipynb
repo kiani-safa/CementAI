{
 "cells": [
  {
   "cell_type": "code",
   "execution_count": 1,
   "id": "4c91c456",
   "metadata": {},
   "outputs": [
    {
     "name": "stdout",
     "output_type": "stream",
     "text": [
      "In this file we are supposed to write models codes\n"
     ]
    }
   ],
   "source": [
    "print(\"In this file we are supposed to write models codes\")"
   ]
  },
  {
   "cell_type": "code",
   "execution_count": null,
   "id": "a9510b5e",
   "metadata": {},
   "outputs": [],
   "source": []
  }
 ],
 "metadata": {
  "kernelspec": {
   "display_name": "venv",
   "language": "python",
   "name": "python3"
  },
  "language_info": {
   "name": "python",
   "version": "3.7.9"
  }
 },
 "nbformat": 4,
 "nbformat_minor": 5
}
