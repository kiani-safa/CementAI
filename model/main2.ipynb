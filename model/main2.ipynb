{
 "cells": [
  {
   "cell_type": "code",
   "execution_count": 39,
   "id": "4c91c456",
   "metadata": {},
   "outputs": [
    {
     "name": "stdout",
     "output_type": "stream",
     "text": [
      "In this file we are supposed to write models codes\n"
     ]
    }
   ],
   "source": [
    "print(\"In this file we are supposed to write models codes\")"
   ]
  },
  {
   "cell_type": "code",
   "execution_count": 40,
   "id": "b8255a85",
   "metadata": {},
   "outputs": [],
   "source": [
    "df=pd.read_csv(\"../data/synthetic_cement_thickening_dataset_10000.csv\")"
   ]
  },
  {
   "cell_type": "code",
   "execution_count": 41,
   "id": "f6086ccb",
   "metadata": {},
   "outputs": [
    {
     "data": {
      "text/html": [
       "<div>\n",
       "<style scoped>\n",
       "    .dataframe tbody tr th:only-of-type {\n",
       "        vertical-align: middle;\n",
       "    }\n",
       "\n",
       "    .dataframe tbody tr th {\n",
       "        vertical-align: top;\n",
       "    }\n",
       "\n",
       "    .dataframe thead th {\n",
       "        text-align: right;\n",
       "    }\n",
       "</style>\n",
       "<table border=\"1\" class=\"dataframe\">\n",
       "  <thead>\n",
       "    <tr style=\"text-align: right;\">\n",
       "      <th></th>\n",
       "      <th>Pressure_psi</th>\n",
       "      <th>Depth_ft</th>\n",
       "      <th>Temperature_F</th>\n",
       "      <th>Retarder_pct</th>\n",
       "      <th>Density_ppg</th>\n",
       "      <th>ThickeningTime_hr</th>\n",
       "    </tr>\n",
       "  </thead>\n",
       "  <tbody>\n",
       "    <tr>\n",
       "      <th>0</th>\n",
       "      <td>6094.11</td>\n",
       "      <td>13555.57</td>\n",
       "      <td>193.97</td>\n",
       "      <td>1.082</td>\n",
       "      <td>13.10</td>\n",
       "      <td>10.26</td>\n",
       "    </tr>\n",
       "    <tr>\n",
       "      <th>1</th>\n",
       "      <td>2322.93</td>\n",
       "      <td>10281.49</td>\n",
       "      <td>262.78</td>\n",
       "      <td>0.292</td>\n",
       "      <td>16.46</td>\n",
       "      <td>8.50</td>\n",
       "    </tr>\n",
       "    <tr>\n",
       "      <th>2</th>\n",
       "      <td>3322.16</td>\n",
       "      <td>11119.74</td>\n",
       "      <td>158.30</td>\n",
       "      <td>1.923</td>\n",
       "      <td>13.48</td>\n",
       "      <td>12.27</td>\n",
       "    </tr>\n",
       "    <tr>\n",
       "      <th>3</th>\n",
       "      <td>3106.23</td>\n",
       "      <td>13095.02</td>\n",
       "      <td>230.34</td>\n",
       "      <td>2.284</td>\n",
       "      <td>16.88</td>\n",
       "      <td>12.08</td>\n",
       "    </tr>\n",
       "    <tr>\n",
       "      <th>4</th>\n",
       "      <td>3055.44</td>\n",
       "      <td>14996.81</td>\n",
       "      <td>232.07</td>\n",
       "      <td>0.525</td>\n",
       "      <td>13.62</td>\n",
       "      <td>9.41</td>\n",
       "    </tr>\n",
       "  </tbody>\n",
       "</table>\n",
       "</div>"
      ],
      "text/plain": [
       "   Pressure_psi  Depth_ft  Temperature_F  Retarder_pct  Density_ppg  \\\n",
       "0       6094.11  13555.57         193.97         1.082        13.10   \n",
       "1       2322.93  10281.49         262.78         0.292        16.46   \n",
       "2       3322.16  11119.74         158.30         1.923        13.48   \n",
       "3       3106.23  13095.02         230.34         2.284        16.88   \n",
       "4       3055.44  14996.81         232.07         0.525        13.62   \n",
       "\n",
       "   ThickeningTime_hr  \n",
       "0              10.26  \n",
       "1               8.50  \n",
       "2              12.27  \n",
       "3              12.08  \n",
       "4               9.41  "
      ]
     },
     "execution_count": 41,
     "metadata": {},
     "output_type": "execute_result"
    }
   ],
   "source": [
    "df.head()"
   ]
  },
  {
   "cell_type": "code",
   "execution_count": 42,
   "id": "a9510b5e",
   "metadata": {},
   "outputs": [],
   "source": [
    "# use drop() function to separate the target value and drop the target\n",
    "# column('ThickeningTime_hr') from the feature set, ensuring the model is trained only on\n",
    "# independent variables while keeping the target aside for prediction\n",
    "x=df.drop('ThickeningTime_hr',axis=1)\n",
    "y=df['ThickeningTime_hr']"
   ]
  },
  {
   "cell_type": "code",
   "execution_count": 43,
   "id": "cb5630c9",
   "metadata": {},
   "outputs": [],
   "source": [
    "####Standardizaion: x-mean/std\n",
    "\n",
    "#Standardizing is important for many machine learning algorithms that are sensitive to the scale of input features\n",
    "#this method standardizes features by removing the mean and scaling to unit variance.\n",
    "#this means that the transformed data will have a mean of 0 and a standard deviation of 1."
   ]
  },
  {
   "cell_type": "code",
   "execution_count": 44,
   "id": "19d0332b",
   "metadata": {},
   "outputs": [],
   "source": [
    "from sklearn.preprocessing import StandardScaler\n",
    "scaler=StandardScaler()\n",
    "x_scaled=scaler.fit_transform(x)"
   ]
  },
  {
   "cell_type": "code",
   "execution_count": 45,
   "id": "fc870ecf",
   "metadata": {},
   "outputs": [],
   "source": [
    "x_scaled=pd.DataFrame(x_scaled,columns=x.columns)"
   ]
  },
  {
   "cell_type": "code",
   "execution_count": 46,
   "id": "939f3dcb",
   "metadata": {},
   "outputs": [
    {
     "data": {
      "text/html": [
       "<div>\n",
       "<style scoped>\n",
       "    .dataframe tbody tr th:only-of-type {\n",
       "        vertical-align: middle;\n",
       "    }\n",
       "\n",
       "    .dataframe tbody tr th {\n",
       "        vertical-align: top;\n",
       "    }\n",
       "\n",
       "    .dataframe thead th {\n",
       "        text-align: right;\n",
       "    }\n",
       "</style>\n",
       "<table border=\"1\" class=\"dataframe\">\n",
       "  <thead>\n",
       "    <tr style=\"text-align: right;\">\n",
       "      <th></th>\n",
       "      <th>Pressure_psi</th>\n",
       "      <th>Depth_ft</th>\n",
       "      <th>Temperature_F</th>\n",
       "      <th>Retarder_pct</th>\n",
       "      <th>Density_ppg</th>\n",
       "    </tr>\n",
       "  </thead>\n",
       "  <tbody>\n",
       "    <tr>\n",
       "      <th>0</th>\n",
       "      <td>0.658518</td>\n",
       "      <td>1.229267</td>\n",
       "      <td>-0.711197</td>\n",
       "      <td>-0.315304</td>\n",
       "      <td>-1.095514</td>\n",
       "    </tr>\n",
       "    <tr>\n",
       "      <th>1</th>\n",
       "      <td>-1.543724</td>\n",
       "      <td>0.095267</td>\n",
       "      <td>0.878686</td>\n",
       "      <td>-1.453245</td>\n",
       "      <td>0.843498</td>\n",
       "    </tr>\n",
       "    <tr>\n",
       "      <th>2</th>\n",
       "      <td>-0.960207</td>\n",
       "      <td>0.385600</td>\n",
       "      <td>-1.535367</td>\n",
       "      <td>0.896100</td>\n",
       "      <td>-0.876221</td>\n",
       "    </tr>\n",
       "    <tr>\n",
       "      <th>3</th>\n",
       "      <td>-1.086303</td>\n",
       "      <td>1.069752</td>\n",
       "      <td>0.129147</td>\n",
       "      <td>1.416096</td>\n",
       "      <td>1.085874</td>\n",
       "    </tr>\n",
       "    <tr>\n",
       "      <th>4</th>\n",
       "      <td>-1.115963</td>\n",
       "      <td>1.728450</td>\n",
       "      <td>0.169119</td>\n",
       "      <td>-1.117625</td>\n",
       "      <td>-0.795429</td>\n",
       "    </tr>\n",
       "  </tbody>\n",
       "</table>\n",
       "</div>"
      ],
      "text/plain": [
       "   Pressure_psi  Depth_ft  Temperature_F  Retarder_pct  Density_ppg\n",
       "0      0.658518  1.229267      -0.711197     -0.315304    -1.095514\n",
       "1     -1.543724  0.095267       0.878686     -1.453245     0.843498\n",
       "2     -0.960207  0.385600      -1.535367      0.896100    -0.876221\n",
       "3     -1.086303  1.069752       0.129147      1.416096     1.085874\n",
       "4     -1.115963  1.728450       0.169119     -1.117625    -0.795429"
      ]
     },
     "execution_count": 46,
     "metadata": {},
     "output_type": "execute_result"
    }
   ],
   "source": [
    "x_scaled.head()"
   ]
  },
  {
   "cell_type": "code",
   "execution_count": 47,
   "id": "db2ef0c3",
   "metadata": {},
   "outputs": [
    {
     "data": {
      "text/html": [
       "<div>\n",
       "<style scoped>\n",
       "    .dataframe tbody tr th:only-of-type {\n",
       "        vertical-align: middle;\n",
       "    }\n",
       "\n",
       "    .dataframe tbody tr th {\n",
       "        vertical-align: top;\n",
       "    }\n",
       "\n",
       "    .dataframe thead th {\n",
       "        text-align: right;\n",
       "    }\n",
       "</style>\n",
       "<table border=\"1\" class=\"dataframe\">\n",
       "  <thead>\n",
       "    <tr style=\"text-align: right;\">\n",
       "      <th></th>\n",
       "      <th>Pressure_psi</th>\n",
       "      <th>Depth_ft</th>\n",
       "      <th>Temperature_F</th>\n",
       "      <th>Retarder_pct</th>\n",
       "      <th>Density_ppg</th>\n",
       "    </tr>\n",
       "  </thead>\n",
       "  <tbody>\n",
       "    <tr>\n",
       "      <th>count</th>\n",
       "      <td>1.000000e+04</td>\n",
       "      <td>1.000000e+04</td>\n",
       "      <td>1.000000e+04</td>\n",
       "      <td>1.000000e+04</td>\n",
       "      <td>1.000000e+04</td>\n",
       "    </tr>\n",
       "    <tr>\n",
       "      <th>mean</th>\n",
       "      <td>2.833289e-16</td>\n",
       "      <td>-3.113954e-16</td>\n",
       "      <td>-3.829825e-16</td>\n",
       "      <td>1.953993e-16</td>\n",
       "      <td>-1.356781e-15</td>\n",
       "    </tr>\n",
       "    <tr>\n",
       "      <th>std</th>\n",
       "      <td>1.000050e+00</td>\n",
       "      <td>1.000050e+00</td>\n",
       "      <td>1.000050e+00</td>\n",
       "      <td>1.000050e+00</td>\n",
       "      <td>1.000050e+00</td>\n",
       "    </tr>\n",
       "    <tr>\n",
       "      <th>min</th>\n",
       "      <td>-1.732229e+00</td>\n",
       "      <td>-1.733958e+00</td>\n",
       "      <td>-1.726679e+00</td>\n",
       "      <td>-1.729808e+00</td>\n",
       "      <td>-1.730310e+00</td>\n",
       "    </tr>\n",
       "    <tr>\n",
       "      <th>25%</th>\n",
       "      <td>-8.566600e-01</td>\n",
       "      <td>-8.745677e-01</td>\n",
       "      <td>-8.697578e-01</td>\n",
       "      <td>-8.684298e-01</td>\n",
       "      <td>-8.589085e-01</td>\n",
       "    </tr>\n",
       "    <tr>\n",
       "      <th>50%</th>\n",
       "      <td>-2.133498e-04</td>\n",
       "      <td>1.374747e-03</td>\n",
       "      <td>-9.368086e-04</td>\n",
       "      <td>8.710294e-04</td>\n",
       "      <td>-4.819830e-03</td>\n",
       "    </tr>\n",
       "    <tr>\n",
       "      <th>75%</th>\n",
       "      <td>8.443584e-01</td>\n",
       "      <td>8.691709e-01</td>\n",
       "      <td>8.761443e-01</td>\n",
       "      <td>8.690915e-01</td>\n",
       "      <td>8.665814e-01</td>\n",
       "    </tr>\n",
       "    <tr>\n",
       "      <th>max</th>\n",
       "      <td>1.771056e+00</td>\n",
       "      <td>1.729378e+00</td>\n",
       "      <td>1.738438e+00</td>\n",
       "      <td>1.727229e+00</td>\n",
       "      <td>1.732212e+00</td>\n",
       "    </tr>\n",
       "  </tbody>\n",
       "</table>\n",
       "</div>"
      ],
      "text/plain": [
       "       Pressure_psi      Depth_ft  Temperature_F  Retarder_pct   Density_ppg\n",
       "count  1.000000e+04  1.000000e+04   1.000000e+04  1.000000e+04  1.000000e+04\n",
       "mean   2.833289e-16 -3.113954e-16  -3.829825e-16  1.953993e-16 -1.356781e-15\n",
       "std    1.000050e+00  1.000050e+00   1.000050e+00  1.000050e+00  1.000050e+00\n",
       "min   -1.732229e+00 -1.733958e+00  -1.726679e+00 -1.729808e+00 -1.730310e+00\n",
       "25%   -8.566600e-01 -8.745677e-01  -8.697578e-01 -8.684298e-01 -8.589085e-01\n",
       "50%   -2.133498e-04  1.374747e-03  -9.368086e-04  8.710294e-04 -4.819830e-03\n",
       "75%    8.443584e-01  8.691709e-01   8.761443e-01  8.690915e-01  8.665814e-01\n",
       "max    1.771056e+00  1.729378e+00   1.738438e+00  1.727229e+00  1.732212e+00"
      ]
     },
     "execution_count": 47,
     "metadata": {},
     "output_type": "execute_result"
    }
   ],
   "source": [
    "x_scaled.describe()"
   ]
  },
  {
   "cell_type": "code",
   "execution_count": 48,
   "id": "cc79c4f0",
   "metadata": {},
   "outputs": [],
   "source": [
    "# Splitting the data into train and test sets\n",
    "from sklearn.model_selection import train_test_split\n",
    "x_train,x_test,y_train,y_test=train_test_split(x_scaled,y,test_size=0.2,random_state=42)"
   ]
  },
  {
   "cell_type": "code",
   "execution_count": 49,
   "id": "f4c6a041",
   "metadata": {},
   "outputs": [
    {
     "data": {
      "text/plain": [
       "((8000, 5), (2000, 5))"
      ]
     },
     "execution_count": 49,
     "metadata": {},
     "output_type": "execute_result"
    }
   ],
   "source": [
    "x_train.shape, x_test.shape"
   ]
  },
  {
   "cell_type": "code",
   "execution_count": 50,
   "id": "1e3ba42c",
   "metadata": {},
   "outputs": [],
   "source": [
    "# build model_1: LinearRegression"
   ]
  },
  {
   "cell_type": "code",
   "execution_count": null,
   "id": "888d5018",
   "metadata": {},
   "outputs": [],
   "source": [
    "# step 1: Import and Model Creation\n",
    "from sklearn.linear_model import LinearRegression\n",
    "from sklearn.metrics import mean_squared_error, r2_score\n",
    "import numpy as np"
   ]
  },
  {
   "cell_type": "code",
   "execution_count": 53,
   "id": "e870db30",
   "metadata": {},
   "outputs": [
    {
     "data": {
      "text/plain": [
       "LinearRegression()"
      ]
     },
     "execution_count": 53,
     "metadata": {},
     "output_type": "execute_result"
    }
   ],
   "source": [
    "model_1=LinearRegression()\n",
    "model_1.fit(x_train,y_train)"
   ]
  },
  {
   "cell_type": "code",
   "execution_count": 55,
   "id": "bb7655e5",
   "metadata": {},
   "outputs": [
    {
     "name": "stdout",
     "output_type": "stream",
     "text": [
      "[ 0.01202437 -0.00185663 -0.64705543  1.25636551 -0.52628572]\n",
      "10.068450351704602\n"
     ]
    }
   ],
   "source": [
    "coefficients=model_1.coef_\n",
    "intercept=model_1.intercept_\n",
    "print(coefficients)\n",
    "print(intercept)\n"
   ]
  },
  {
   "cell_type": "code",
   "execution_count": 56,
   "id": "7dac90d8",
   "metadata": {},
   "outputs": [],
   "source": [
    "# prediction\n",
    "y_pred_1=model_1.predict(x_test)\n"
   ]
  },
  {
   "cell_type": "code",
   "execution_count": 57,
   "id": "c68ee598",
   "metadata": {},
   "outputs": [
    {
     "name": "stdout",
     "output_type": "stream",
     "text": [
      " MSE:  0.2329\n",
      " RMSE:  0.4826\n",
      " R2:  0.9101\n"
     ]
    }
   ],
   "source": [
    "# evaluation\n",
    "mse=mean_squared_error(y_test,y_pred_1)\n",
    "rmse=np.sqrt(mse)\n",
    "r2=r2_score(y_test,y_pred_1)\n",
    "print(f\" MSE: {mse: .4f}\")\n",
    "print(f\" RMSE: {rmse: .4f}\")\n",
    "print(f\" R2: {r2: .4f}\")"
   ]
  },
  {
   "cell_type": "code",
   "execution_count": 58,
   "id": "8301332d",
   "metadata": {},
   "outputs": [],
   "source": [
    "# model_2 :Random Farest Regressor"
   ]
  },
  {
   "cell_type": "code",
   "execution_count": 59,
   "id": "5b4743b7",
   "metadata": {},
   "outputs": [],
   "source": [
    "# step 1: Import and Model Creation\n",
    "from sklearn.ensemble import RandomForestRegressor\n",
    "from sklearn.metrics import mean_squared_error, r2_score"
   ]
  },
  {
   "cell_type": "code",
   "execution_count": 60,
   "id": "ac56b054",
   "metadata": {},
   "outputs": [],
   "source": [
    "model_2=RandomForestRegressor(n_estimators=100,random_state=42)"
   ]
  },
  {
   "cell_type": "code",
   "execution_count": 61,
   "id": "240bdf6d",
   "metadata": {},
   "outputs": [
    {
     "data": {
      "text/plain": [
       "RandomForestRegressor(random_state=42)"
      ]
     },
     "execution_count": 61,
     "metadata": {},
     "output_type": "execute_result"
    }
   ],
   "source": [
    "# fit the model\n",
    "model_2.fit(x_train,y_train)"
   ]
  },
  {
   "cell_type": "code",
   "execution_count": 62,
   "id": "e396ec2e",
   "metadata": {},
   "outputs": [],
   "source": [
    "# predict on test data\n",
    "y_pred_2=model_2.predict(x_test)"
   ]
  },
  {
   "cell_type": "code",
   "execution_count": 63,
   "id": "2320663f",
   "metadata": {},
   "outputs": [
    {
     "name": "stdout",
     "output_type": "stream",
     "text": [
      " Random Farest RMSE:  0.5092\n",
      " Random Farest R2:  0.8998\n"
     ]
    }
   ],
   "source": [
    "# Evaluation the Model\n",
    "mse_2=mean_squared_error(y_test,y_pred_2)\n",
    "rmse_2=np.sqrt(mse_2)\n",
    "r2_2=r2_score(y_test,y_pred_2)\n",
    "\n",
    "\n",
    "print(f\" Random Farest RMSE: {rmse_2: .4f}\")\n",
    "print(f\" Random Farest R2: {r2_2: .4f}\")\n"
   ]
  },
  {
   "cell_type": "code",
   "execution_count": 64,
   "id": "d9524f98",
   "metadata": {},
   "outputs": [],
   "source": [
    "# After evaluating both models, Linear Regression showed\n",
    "# slightly better performance\n",
    "# with lower RMSE and higher R2 compared to Random Farest\n",
    "# therefore, we selected the Linear Regression model for \n",
    "# final analysis.\n",
    "# next, we wil visualize the results with charts"
   ]
  },
  {
   "cell_type": "code",
   "execution_count": 67,
   "id": "96b711c2",
   "metadata": {},
   "outputs": [
    {
     "data": {
      "image/png": "[encoded data removed]",
      "text/plain": [
       "<Figure size 600x600 with 1 Axes>"
      ]
     },
     "metadata": {},
     "output_type": "display_data"
    }
   ],
   "source": [
    "import matplotlib.pyplot as plt\n",
    "plt.figure(figsize=(6,6))\n",
    "plt.scatter(y_test,y_pred_1,alpha=0.5,s=20, label=\"Predict Vs Actual\")\n",
    "\n",
    "min_val=min(y_test.min(),y_pred_1.min())\n",
    "max_val=max(y_test.max(),y_pred_1.max())\n",
    "\n",
    "plt.plot([min_val,max_val], [min_val,max_val], 'r--',label='perfect prediction')\n",
    "plt.xlabel(\"Actual Thickeninh Time(hr)\")\n",
    "plt.ylabel(\"Predicted Thickeninh Time(hr)\")\n",
    "plt.title(\"predicted vs actual on test data\")\n",
    "plt.legend()\n",
    "plt.grid(True)\n",
    "plt.savefig('my_plot.png',dpi=300)\n",
    "plt.show()"
   ]
  },
  {
   "cell_type": "code",
   "execution_count": 68,
   "id": "3e9eaea7",
   "metadata": {},
   "outputs": [],
   "source": [
    "# Each point represent a test sample \n",
    "# points close to the red dashed line predicted values \n",
    "# are very close to actual values\n",
    "\n",
    "# this chart visually confirms that the model predicts \n",
    "# Thickening Time accurately"
   ]
  },
  {
   "cell_type": "code",
   "execution_count": null,
   "id": "d6924851",
   "metadata": {},
   "outputs": [],
   "source": []
  },
  {
   "cell_type": "code",
   "execution_count": null,
   "id": "f1eb3cb0",
   "metadata": {},
   "outputs": [],
   "source": []
  },
  {
   "cell_type": "code",
   "execution_count": null,
   "id": "c342a440",
   "metadata": {},
   "outputs": [],
   "source": []
  },
  {
   "cell_type": "code",
   "execution_count": null,
   "id": "ff65d298",
   "metadata": {},
   "outputs": [],
   "source": []
  },
  {
   "cell_type": "code",
   "execution_count": null,
   "id": "2bb58f75",
   "metadata": {},
   "outputs": [],
   "source": []
  },
  {
   "cell_type": "code",
   "execution_count": null,
   "id": "ed5cbef2",
   "metadata": {},
   "outputs": [],
   "source": []
  },
  {
   "cell_type": "code",
   "execution_count": null,
   "id": "2e29e367",
   "metadata": {},
   "outputs": [],
   "source": []
  },
  {
   "cell_type": "code",
   "execution_count": null,
   "id": "e8efeedd",
   "metadata": {},
   "outputs": [],
   "source": []
  },
  {
   "cell_type": "code",
   "execution_count": null,
   "id": "866503aa",
   "metadata": {},
   "outputs": [],
   "source": []
  },
  {
   "cell_type": "code",
   "execution_count": null,
   "id": "f2db6e8b",
   "metadata": {},
   "outputs": [],
   "source": []
  }
 ],
 "metadata": {
  "kernelspec": {
   "display_name": "venv",
   "language": "python",
   "name": "python3"
  },
  "language_info": {
   "codemirror_mode": {
    "name": "ipython",
    "version": 3
   },
   "file_extension": ".py",
   "mimetype": "text/x-python",
   "name": "python",
   "nbconvert_exporter": "python",
   "pygments_lexer": "ipython3",
   "version": "3.7.9"
  }
 },
 "nbformat": 4,
 "nbformat_minor": 5
}
